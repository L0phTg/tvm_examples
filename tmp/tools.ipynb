{
 "cells": [
  {
   "cell_type": "code",
   "execution_count": 30,
   "metadata": {},
   "outputs": [],
   "source": [
    "# This is needed for deferring annotation parsing in TVMScript\n",
    "from __future__ import annotations\n",
    "import numpy as np\n",
    "import tvm\n",
    "from tvm import relax\n",
    "from tvm import relay\n",
    "from tvm.ir.module import IRModule\n",
    "from tvm.script import ir as I\n",
    "from tvm.script import tir as T\n",
    "from tvm.script import relax as R"
   ]
  },
  {
   "cell_type": "code",
   "execution_count": 2,
   "metadata": {},
   "outputs": [],
   "source": [
    "from tvm import te\n",
    "from tvm import topi"
   ]
  },
  {
   "cell_type": "code",
   "execution_count": 27,
   "metadata": {},
   "outputs": [],
   "source": [
    "from tvm import relax as rx, tir"
   ]
  },
  {
   "cell_type": "code",
   "execution_count": 61,
   "metadata": {},
   "outputs": [
    {
     "name": "stderr",
     "output_type": "stream",
     "text": [
      "[14:24:41] /workspace/tvm/src/relax/ir/block_builder.cc:60: Warning: BlockBuilder destroyed with remaining blocks!\n",
      "[14:24:41] /workspace/tvm/src/relax/ir/block_builder.cc:60: Warning: BlockBuilder destroyed with remaining blocks!\n"
     ]
    }
   ],
   "source": [
    "import torch\n",
    "from torch import nn\n",
    "from torch import fx\n",
    "from torch.nn import functional as F\n",
    "\n",
    "from d2l import torch as d2l"
   ]
  },
  {
   "cell_type": "markdown",
   "metadata": {},
   "source": [
    "编写tir函数时，注意：\n",
    "- bb.emit\n",
    "- bb.emit_te"
   ]
  },
  {
   "cell_type": "markdown",
   "metadata": {},
   "source": [
    "线性层Linear\n",
    "- dense+add"
   ]
  },
  {
   "cell_type": "code",
   "execution_count": 34,
   "metadata": {},
   "outputs": [],
   "source": [
    "def te_linear(X: te.Tensor, W: te.Tensor, B: te.Tensor, Z: te.Tensor) -> te.Tensor:\n",
    "    Y = topi.nn.matmul(X, W, bias=B)\n",
    "    res = topi.add(Y, Z)\n",
    "    return res\n",
    "\n",
    "def te_linear_func():\n",
    "    b = te.var(\"batch\") # batch\n",
    "    indim = te.var(\"indim\") # indim\n",
    "    outdim = te.var(\"outdim\") # outdim\n",
    "    X = te.placeholder(shape=(b, indim), name=\"x\", dtype=\"float32\")\n",
    "    W = te.placeholder(shape=(outdim, indim), name=\"w\", dtype=\"float32\")\n",
    "    B = te.placeholder(shape=(outdim, ), name=\"b\", dtype=\"float32\")\n",
    "    Z = te.placeholder(shape=(b, outdim), name=\"z\", dtype=\"float32\")\n",
    "    Y = topi.nn.matmul(X, W, bias=B)\n",
    "    res = topi.add(Y, Z)\n",
    "    return te.create_prim_func([X, W, B, Z, res]).with_attr(\"global_symbol\", \"linear\")\n",
    "\n",
    "def linear(X: R.Tensor) -> R.Tensor:\n",
    "    res = te_linear_func()\n",
    "    return res"
   ]
  },
  {
   "cell_type": "markdown",
   "metadata": {},
   "source": [
    "relu, 动态shape："
   ]
  },
  {
   "cell_type": "code",
   "execution_count": 35,
   "metadata": {},
   "outputs": [],
   "source": [
    "def relu_func():\n",
    "    m = te.var(\"m\")\n",
    "    n = te.var(\"n\")\n",
    "    X = te.placeholder(shape=(m, n), name=\"x\", dtype=\"float32\")\n",
    "    Y = topi.nn.relu(X)\n",
    "    return te.create_prim_func([X, Y]).with_attr(\"global_symbol\", \"relu\")"
   ]
  },
  {
   "cell_type": "markdown",
   "metadata": {},
   "source": [
    "FFN, 前馈神经网络"
   ]
  },
  {
   "cell_type": "code",
   "execution_count": 42,
   "metadata": {},
   "outputs": [],
   "source": [
    "def PositiveWiseFFN():\n",
    "    bb = relax.BlockBuilder()\n",
    "    # bb.add_func(te_linear_func(), \"linear\")\n",
    "    # bb.add_func(relu_func(), \"relu\")\n",
    "    b = tir.Var(\"b\", \"int64\") \n",
    "    m, n, d = tir.Var(\"n\", \"int64\"), tir.Var(\"m\", \"int64\"), tir.Var(\"d\", \"int64\")\n",
    "    # 动态shape anno\n",
    "    type_anno = rx.DynTensorType(2, \"float32\")\n",
    "    type_anno1 = rx.DynTensorType(1, \"float32\")\n",
    "    x = rx.Var(\"x\", [b, m], type_anno)\n",
    "    w0 = rx.Var(\"w0\", [n, m], type_anno)\n",
    "    b0 = rx.Var(\"b0\", [n, ], type_anno1)\n",
    "    z0 = rx.Var(\"z0\", [b, n], type_anno)\n",
    "\n",
    "    w1 = rx.Var(\"w1\", [d, n], type_anno)\n",
    "    b1 = rx.Var(\"b1\", [d, ], type_anno1)\n",
    "    z1 = rx.Var(\"z1\", [b, d], type_anno)\n",
    "    fn_inputs = [x, w0, b0, z0, w1, b1, z1]\n",
    "    fn_output = None\n",
    "    with bb.function(\"positivewiseffn\"):\n",
    "        with bb.dataflow():\n",
    "            lv0 = bb.emit_te(te_linear, x, w0, b0, z0)\n",
    "            lv1 = bb.emit_te(topi.nn.relu, lv0)\n",
    "            output = bb.emit_te(te_linear, lv1, w1, b1, z1)\n",
    "            fn_output = bb.emit_output(output)\n",
    "        bb.emit_func_output(fn_output, fn_inputs)\n",
    "    return bb.get()"
   ]
  },
  {
   "cell_type": "code",
   "execution_count": 44,
   "metadata": {},
   "outputs": [
    {
     "data": {
      "text/html": [
       "<div class=\"highlight\" style=\"background: \"><pre style=\"line-height: 125%;\"><span></span><span style=\"color: #AA22FF\">@tvm</span><span style=\"color: #AA22FF; font-weight: bold\">.</span>script<span style=\"color: #AA22FF; font-weight: bold\">.</span>ir_module\n",
       "<span style=\"color: #008000; font-weight: bold\">class</span> <span style=\"color: #1E90FF; font-weight: bold\">Module</span>:\n",
       "    <span style=\"color: #AA22FF\">@T</span><span style=\"color: #AA22FF; font-weight: bold\">.</span>prim_func\n",
       "    <span style=\"color: #008000; font-weight: bold\">def</span> <span style=\"color: #1E90FF\">te_linear</span>(var_rxplaceholder: T<span style=\"color: #AA22FF; font-weight: bold\">.</span>handle, var_rxplaceholder_1: T<span style=\"color: #AA22FF; font-weight: bold\">.</span>handle, var_rxplaceholder_2: T<span style=\"color: #AA22FF; font-weight: bold\">.</span>handle, var_rxplaceholder_3: T<span style=\"color: #AA22FF; font-weight: bold\">.</span>handle, var_T_add: T<span style=\"color: #AA22FF; font-weight: bold\">.</span>handle):\n",
       "        <span style=\"color: #007979; font-style: italic\"># function attr dict</span>\n",
       "        T<span style=\"color: #AA22FF; font-weight: bold\">.</span>func_attr({<span style=\"color: #BA2121\">&quot;layout_free_buffers&quot;</span>: [<span style=\"color: #008000\">1</span>], <span style=\"color: #BA2121\">&quot;tir.noalias&quot;</span>: <span style=\"color: #008000; font-weight: bold\">True</span>})\n",
       "        b <span style=\"color: #AA22FF; font-weight: bold\">=</span> T<span style=\"color: #AA22FF; font-weight: bold\">.</span>var(<span style=\"color: #BA2121\">&quot;int64&quot;</span>)\n",
       "        m <span style=\"color: #AA22FF; font-weight: bold\">=</span> T<span style=\"color: #AA22FF; font-weight: bold\">.</span>var(<span style=\"color: #BA2121\">&quot;int64&quot;</span>)\n",
       "        n <span style=\"color: #AA22FF; font-weight: bold\">=</span> T<span style=\"color: #AA22FF; font-weight: bold\">.</span>var(<span style=\"color: #BA2121\">&quot;int64&quot;</span>)\n",
       "        rxplaceholder <span style=\"color: #AA22FF; font-weight: bold\">=</span> T<span style=\"color: #AA22FF; font-weight: bold\">.</span>match_buffer(var_rxplaceholder, [b, n], dtype<span style=\"color: #AA22FF; font-weight: bold\">=</span><span style=\"color: #BA2121\">&quot;float32&quot;</span>)\n",
       "        rxplaceholder_1 <span style=\"color: #AA22FF; font-weight: bold\">=</span> T<span style=\"color: #AA22FF; font-weight: bold\">.</span>match_buffer(var_rxplaceholder_1, [m, n], dtype<span style=\"color: #AA22FF; font-weight: bold\">=</span><span style=\"color: #BA2121\">&quot;float32&quot;</span>)\n",
       "        rxplaceholder_2 <span style=\"color: #AA22FF; font-weight: bold\">=</span> T<span style=\"color: #AA22FF; font-weight: bold\">.</span>match_buffer(var_rxplaceholder_2, [m], dtype<span style=\"color: #AA22FF; font-weight: bold\">=</span><span style=\"color: #BA2121\">&quot;float32&quot;</span>)\n",
       "        rxplaceholder_3 <span style=\"color: #AA22FF; font-weight: bold\">=</span> T<span style=\"color: #AA22FF; font-weight: bold\">.</span>match_buffer(var_rxplaceholder_3, [b, m], dtype<span style=\"color: #AA22FF; font-weight: bold\">=</span><span style=\"color: #BA2121\">&quot;float32&quot;</span>)\n",
       "        T_add <span style=\"color: #AA22FF; font-weight: bold\">=</span> T<span style=\"color: #AA22FF; font-weight: bold\">.</span>match_buffer(var_T_add, [b, T<span style=\"color: #AA22FF; font-weight: bold\">.</span>max(n, m)], dtype<span style=\"color: #AA22FF; font-weight: bold\">=</span><span style=\"color: #BA2121\">&quot;float32&quot;</span>)\n",
       "        <span style=\"color: #007979; font-style: italic\"># body</span>\n",
       "        <span style=\"color: #007979; font-style: italic\"># with T.block(&quot;root&quot;)</span>\n",
       "        T_matmul_NN <span style=\"color: #AA22FF; font-weight: bold\">=</span> T<span style=\"color: #AA22FF; font-weight: bold\">.</span>alloc_buffer([b, n], dtype<span style=\"color: #AA22FF; font-weight: bold\">=</span><span style=\"color: #BA2121\">&quot;float32&quot;</span>)\n",
       "        compute <span style=\"color: #AA22FF; font-weight: bold\">=</span> T<span style=\"color: #AA22FF; font-weight: bold\">.</span>alloc_buffer([b, n], dtype<span style=\"color: #AA22FF; font-weight: bold\">=</span><span style=\"color: #BA2121\">&quot;float32&quot;</span>)\n",
       "        <span style=\"color: #008000; font-weight: bold\">for</span> i0, i1, i2 <span style=\"color: #008000; font-weight: bold\">in</span> T<span style=\"color: #AA22FF; font-weight: bold\">.</span>grid(b, n, n):\n",
       "            <span style=\"color: #008000; font-weight: bold\">with</span> T<span style=\"color: #AA22FF; font-weight: bold\">.</span>block(<span style=\"color: #BA2121\">&quot;T_matmul_NN&quot;</span>):\n",
       "                i, j, k <span style=\"color: #AA22FF; font-weight: bold\">=</span> T<span style=\"color: #AA22FF; font-weight: bold\">.</span>axis<span style=\"color: #AA22FF; font-weight: bold\">.</span>remap(<span style=\"color: #BA2121\">&quot;SSR&quot;</span>, [i0, i1, i2])\n",
       "                T<span style=\"color: #AA22FF; font-weight: bold\">.</span>reads(rxplaceholder[i, k], rxplaceholder_1[k, j])\n",
       "                T<span style=\"color: #AA22FF; font-weight: bold\">.</span>writes(T_matmul_NN[i, j])\n",
       "                <span style=\"color: #008000; font-weight: bold\">with</span> T<span style=\"color: #AA22FF; font-weight: bold\">.</span>init():\n",
       "                    T_matmul_NN[i, j] <span style=\"color: #AA22FF; font-weight: bold\">=</span> T<span style=\"color: #AA22FF; font-weight: bold\">.</span>float32(<span style=\"color: #008000\">0</span>)\n",
       "                T_matmul_NN[i, j] <span style=\"color: #AA22FF; font-weight: bold\">=</span> T_matmul_NN[i, j] <span style=\"color: #AA22FF; font-weight: bold\">+</span> rxplaceholder[i, k] <span style=\"color: #AA22FF; font-weight: bold\">*</span> rxplaceholder_1[k, j]\n",
       "        <span style=\"color: #008000; font-weight: bold\">for</span> i0, i1 <span style=\"color: #008000; font-weight: bold\">in</span> T<span style=\"color: #AA22FF; font-weight: bold\">.</span>grid(b, n):\n",
       "            <span style=\"color: #008000; font-weight: bold\">with</span> T<span style=\"color: #AA22FF; font-weight: bold\">.</span>block(<span style=\"color: #BA2121\">&quot;compute&quot;</span>):\n",
       "                i, j <span style=\"color: #AA22FF; font-weight: bold\">=</span> T<span style=\"color: #AA22FF; font-weight: bold\">.</span>axis<span style=\"color: #AA22FF; font-weight: bold\">.</span>remap(<span style=\"color: #BA2121\">&quot;SS&quot;</span>, [i0, i1])\n",
       "                T<span style=\"color: #AA22FF; font-weight: bold\">.</span>reads(T_matmul_NN[i, j], rxplaceholder_2[j])\n",
       "                T<span style=\"color: #AA22FF; font-weight: bold\">.</span>writes(compute[i, j])\n",
       "                compute[i, j] <span style=\"color: #AA22FF; font-weight: bold\">=</span> T_matmul_NN[i, j] <span style=\"color: #AA22FF; font-weight: bold\">+</span> rxplaceholder_2[j]\n",
       "        <span style=\"color: #008000; font-weight: bold\">for</span> i0, i1 <span style=\"color: #008000; font-weight: bold\">in</span> T<span style=\"color: #AA22FF; font-weight: bold\">.</span>grid(b, T<span style=\"color: #AA22FF; font-weight: bold\">.</span>max(n, m)):\n",
       "            <span style=\"color: #008000; font-weight: bold\">with</span> T<span style=\"color: #AA22FF; font-weight: bold\">.</span>block(<span style=\"color: #BA2121\">&quot;T_add&quot;</span>):\n",
       "                ax0, ax1 <span style=\"color: #AA22FF; font-weight: bold\">=</span> T<span style=\"color: #AA22FF; font-weight: bold\">.</span>axis<span style=\"color: #AA22FF; font-weight: bold\">.</span>remap(<span style=\"color: #BA2121\">&quot;SS&quot;</span>, [i0, i1])\n",
       "                T<span style=\"color: #AA22FF; font-weight: bold\">.</span>reads(compute[ax0, ax1], rxplaceholder_3[ax0, ax1])\n",
       "                T<span style=\"color: #AA22FF; font-weight: bold\">.</span>writes(T_add[ax0, ax1])\n",
       "                T_add[ax0, ax1] <span style=\"color: #AA22FF; font-weight: bold\">=</span> compute[ax0, ax1] <span style=\"color: #AA22FF; font-weight: bold\">+</span> rxplaceholder_3[ax0, ax1]\n",
       "    \n",
       "    <span style=\"color: #AA22FF\">@T</span><span style=\"color: #AA22FF; font-weight: bold\">.</span>prim_func\n",
       "    <span style=\"color: #008000; font-weight: bold\">def</span> <span style=\"color: #1E90FF\">relu</span>(var_rxplaceholder: T<span style=\"color: #AA22FF; font-weight: bold\">.</span>handle, var_compute: T<span style=\"color: #AA22FF; font-weight: bold\">.</span>handle, m: T<span style=\"color: #AA22FF; font-weight: bold\">.</span>int64, n: T<span style=\"color: #AA22FF; font-weight: bold\">.</span>int64):\n",
       "        <span style=\"color: #007979; font-style: italic\"># function attr dict</span>\n",
       "        T<span style=\"color: #AA22FF; font-weight: bold\">.</span>func_attr({<span style=\"color: #BA2121\">&quot;tir.noalias&quot;</span>: <span style=\"color: #008000; font-weight: bold\">True</span>})\n",
       "        b <span style=\"color: #AA22FF; font-weight: bold\">=</span> T<span style=\"color: #AA22FF; font-weight: bold\">.</span>var(<span style=\"color: #BA2121\">&quot;int64&quot;</span>)\n",
       "        rxplaceholder <span style=\"color: #AA22FF; font-weight: bold\">=</span> T<span style=\"color: #AA22FF; font-weight: bold\">.</span>match_buffer(var_rxplaceholder, [b, T<span style=\"color: #AA22FF; font-weight: bold\">.</span>max(n, m)], dtype<span style=\"color: #AA22FF; font-weight: bold\">=</span><span style=\"color: #BA2121\">&quot;float32&quot;</span>)\n",
       "        compute <span style=\"color: #AA22FF; font-weight: bold\">=</span> T<span style=\"color: #AA22FF; font-weight: bold\">.</span>match_buffer(var_compute, [b, T<span style=\"color: #AA22FF; font-weight: bold\">.</span>max(n, m)], dtype<span style=\"color: #AA22FF; font-weight: bold\">=</span><span style=\"color: #BA2121\">&quot;float32&quot;</span>)\n",
       "        <span style=\"color: #007979; font-style: italic\"># body</span>\n",
       "        <span style=\"color: #007979; font-style: italic\"># with T.block(&quot;root&quot;)</span>\n",
       "        <span style=\"color: #008000; font-weight: bold\">for</span> i0, i1 <span style=\"color: #008000; font-weight: bold\">in</span> T<span style=\"color: #AA22FF; font-weight: bold\">.</span>grid(b, T<span style=\"color: #AA22FF; font-weight: bold\">.</span>max(n, m)):\n",
       "            <span style=\"color: #008000; font-weight: bold\">with</span> T<span style=\"color: #AA22FF; font-weight: bold\">.</span>block(<span style=\"color: #BA2121\">&quot;compute&quot;</span>):\n",
       "                i0_1, i1_1 <span style=\"color: #AA22FF; font-weight: bold\">=</span> T<span style=\"color: #AA22FF; font-weight: bold\">.</span>axis<span style=\"color: #AA22FF; font-weight: bold\">.</span>remap(<span style=\"color: #BA2121\">&quot;SS&quot;</span>, [i0, i1])\n",
       "                T<span style=\"color: #AA22FF; font-weight: bold\">.</span>reads(rxplaceholder[i0_1, i1_1])\n",
       "                T<span style=\"color: #AA22FF; font-weight: bold\">.</span>writes(compute[i0_1, i1_1])\n",
       "                compute[i0_1, i1_1] <span style=\"color: #AA22FF; font-weight: bold\">=</span> T<span style=\"color: #AA22FF; font-weight: bold\">.</span>max(rxplaceholder[i0_1, i1_1], T<span style=\"color: #AA22FF; font-weight: bold\">.</span>float32(<span style=\"color: #008000\">0</span>))\n",
       "    \n",
       "    <span style=\"color: #AA22FF\">@T</span><span style=\"color: #AA22FF; font-weight: bold\">.</span>prim_func\n",
       "    <span style=\"color: #008000; font-weight: bold\">def</span> <span style=\"color: #1E90FF\">te_linear1</span>(var_rxplaceholder: T<span style=\"color: #AA22FF; font-weight: bold\">.</span>handle, var_rxplaceholder_1: T<span style=\"color: #AA22FF; font-weight: bold\">.</span>handle, var_rxplaceholder_2: T<span style=\"color: #AA22FF; font-weight: bold\">.</span>handle, var_rxplaceholder_3: T<span style=\"color: #AA22FF; font-weight: bold\">.</span>handle, var_T_add: T<span style=\"color: #AA22FF; font-weight: bold\">.</span>handle, n: T<span style=\"color: #AA22FF; font-weight: bold\">.</span>int64):\n",
       "        <span style=\"color: #007979; font-style: italic\"># function attr dict</span>\n",
       "        T<span style=\"color: #AA22FF; font-weight: bold\">.</span>func_attr({<span style=\"color: #BA2121\">&quot;layout_free_buffers&quot;</span>: [<span style=\"color: #008000\">1</span>], <span style=\"color: #BA2121\">&quot;tir.noalias&quot;</span>: <span style=\"color: #008000; font-weight: bold\">True</span>})\n",
       "        b <span style=\"color: #AA22FF; font-weight: bold\">=</span> T<span style=\"color: #AA22FF; font-weight: bold\">.</span>var(<span style=\"color: #BA2121\">&quot;int64&quot;</span>)\n",
       "        d <span style=\"color: #AA22FF; font-weight: bold\">=</span> T<span style=\"color: #AA22FF; font-weight: bold\">.</span>var(<span style=\"color: #BA2121\">&quot;int64&quot;</span>)\n",
       "        m <span style=\"color: #AA22FF; font-weight: bold\">=</span> T<span style=\"color: #AA22FF; font-weight: bold\">.</span>var(<span style=\"color: #BA2121\">&quot;int64&quot;</span>)\n",
       "        rxplaceholder <span style=\"color: #AA22FF; font-weight: bold\">=</span> T<span style=\"color: #AA22FF; font-weight: bold\">.</span>match_buffer(var_rxplaceholder, [b, T<span style=\"color: #AA22FF; font-weight: bold\">.</span>max(n, m)], dtype<span style=\"color: #AA22FF; font-weight: bold\">=</span><span style=\"color: #BA2121\">&quot;float32&quot;</span>)\n",
       "        rxplaceholder_1 <span style=\"color: #AA22FF; font-weight: bold\">=</span> T<span style=\"color: #AA22FF; font-weight: bold\">.</span>match_buffer(var_rxplaceholder_1, [d, m], dtype<span style=\"color: #AA22FF; font-weight: bold\">=</span><span style=\"color: #BA2121\">&quot;float32&quot;</span>)\n",
       "        rxplaceholder_2 <span style=\"color: #AA22FF; font-weight: bold\">=</span> T<span style=\"color: #AA22FF; font-weight: bold\">.</span>match_buffer(var_rxplaceholder_2, [d], dtype<span style=\"color: #AA22FF; font-weight: bold\">=</span><span style=\"color: #BA2121\">&quot;float32&quot;</span>)\n",
       "        rxplaceholder_3 <span style=\"color: #AA22FF; font-weight: bold\">=</span> T<span style=\"color: #AA22FF; font-weight: bold\">.</span>match_buffer(var_rxplaceholder_3, [b, d], dtype<span style=\"color: #AA22FF; font-weight: bold\">=</span><span style=\"color: #BA2121\">&quot;float32&quot;</span>)\n",
       "        T_add <span style=\"color: #AA22FF; font-weight: bold\">=</span> T<span style=\"color: #AA22FF; font-weight: bold\">.</span>match_buffer(var_T_add, [b, T<span style=\"color: #AA22FF; font-weight: bold\">.</span>max(m, d)], dtype<span style=\"color: #AA22FF; font-weight: bold\">=</span><span style=\"color: #BA2121\">&quot;float32&quot;</span>)\n",
       "        <span style=\"color: #007979; font-style: italic\"># body</span>\n",
       "        <span style=\"color: #007979; font-style: italic\"># with T.block(&quot;root&quot;)</span>\n",
       "        T_matmul_NN <span style=\"color: #AA22FF; font-weight: bold\">=</span> T<span style=\"color: #AA22FF; font-weight: bold\">.</span>alloc_buffer([b, m], dtype<span style=\"color: #AA22FF; font-weight: bold\">=</span><span style=\"color: #BA2121\">&quot;float32&quot;</span>)\n",
       "        compute <span style=\"color: #AA22FF; font-weight: bold\">=</span> T<span style=\"color: #AA22FF; font-weight: bold\">.</span>alloc_buffer([b, m], dtype<span style=\"color: #AA22FF; font-weight: bold\">=</span><span style=\"color: #BA2121\">&quot;float32&quot;</span>)\n",
       "        <span style=\"color: #008000; font-weight: bold\">for</span> i0, i1, i2 <span style=\"color: #008000; font-weight: bold\">in</span> T<span style=\"color: #AA22FF; font-weight: bold\">.</span>grid(b, m, T<span style=\"color: #AA22FF; font-weight: bold\">.</span>max(n, m)):\n",
       "            <span style=\"color: #008000; font-weight: bold\">with</span> T<span style=\"color: #AA22FF; font-weight: bold\">.</span>block(<span style=\"color: #BA2121\">&quot;T_matmul_NN&quot;</span>):\n",
       "                i, j, k <span style=\"color: #AA22FF; font-weight: bold\">=</span> T<span style=\"color: #AA22FF; font-weight: bold\">.</span>axis<span style=\"color: #AA22FF; font-weight: bold\">.</span>remap(<span style=\"color: #BA2121\">&quot;SSR&quot;</span>, [i0, i1, i2])\n",
       "                T<span style=\"color: #AA22FF; font-weight: bold\">.</span>reads(rxplaceholder[i, k], rxplaceholder_1[k, j])\n",
       "                T<span style=\"color: #AA22FF; font-weight: bold\">.</span>writes(T_matmul_NN[i, j])\n",
       "                <span style=\"color: #008000; font-weight: bold\">with</span> T<span style=\"color: #AA22FF; font-weight: bold\">.</span>init():\n",
       "                    T_matmul_NN[i, j] <span style=\"color: #AA22FF; font-weight: bold\">=</span> T<span style=\"color: #AA22FF; font-weight: bold\">.</span>float32(<span style=\"color: #008000\">0</span>)\n",
       "                T_matmul_NN[i, j] <span style=\"color: #AA22FF; font-weight: bold\">=</span> T_matmul_NN[i, j] <span style=\"color: #AA22FF; font-weight: bold\">+</span> rxplaceholder[i, k] <span style=\"color: #AA22FF; font-weight: bold\">*</span> rxplaceholder_1[k, j]\n",
       "        <span style=\"color: #008000; font-weight: bold\">for</span> i0, i1 <span style=\"color: #008000; font-weight: bold\">in</span> T<span style=\"color: #AA22FF; font-weight: bold\">.</span>grid(b, m):\n",
       "            <span style=\"color: #008000; font-weight: bold\">with</span> T<span style=\"color: #AA22FF; font-weight: bold\">.</span>block(<span style=\"color: #BA2121\">&quot;compute&quot;</span>):\n",
       "                i, j <span style=\"color: #AA22FF; font-weight: bold\">=</span> T<span style=\"color: #AA22FF; font-weight: bold\">.</span>axis<span style=\"color: #AA22FF; font-weight: bold\">.</span>remap(<span style=\"color: #BA2121\">&quot;SS&quot;</span>, [i0, i1])\n",
       "                T<span style=\"color: #AA22FF; font-weight: bold\">.</span>reads(T_matmul_NN[i, j], rxplaceholder_2[j])\n",
       "                T<span style=\"color: #AA22FF; font-weight: bold\">.</span>writes(compute[i, j])\n",
       "                compute[i, j] <span style=\"color: #AA22FF; font-weight: bold\">=</span> T_matmul_NN[i, j] <span style=\"color: #AA22FF; font-weight: bold\">+</span> rxplaceholder_2[j]\n",
       "        <span style=\"color: #008000; font-weight: bold\">for</span> i0, i1 <span style=\"color: #008000; font-weight: bold\">in</span> T<span style=\"color: #AA22FF; font-weight: bold\">.</span>grid(b, T<span style=\"color: #AA22FF; font-weight: bold\">.</span>max(m, d)):\n",
       "            <span style=\"color: #008000; font-weight: bold\">with</span> T<span style=\"color: #AA22FF; font-weight: bold\">.</span>block(<span style=\"color: #BA2121\">&quot;T_add&quot;</span>):\n",
       "                ax0, ax1 <span style=\"color: #AA22FF; font-weight: bold\">=</span> T<span style=\"color: #AA22FF; font-weight: bold\">.</span>axis<span style=\"color: #AA22FF; font-weight: bold\">.</span>remap(<span style=\"color: #BA2121\">&quot;SS&quot;</span>, [i0, i1])\n",
       "                T<span style=\"color: #AA22FF; font-weight: bold\">.</span>reads(compute[ax0, ax1], rxplaceholder_3[ax0, ax1])\n",
       "                T<span style=\"color: #AA22FF; font-weight: bold\">.</span>writes(T_add[ax0, ax1])\n",
       "                T_add[ax0, ax1] <span style=\"color: #AA22FF; font-weight: bold\">=</span> compute[ax0, ax1] <span style=\"color: #AA22FF; font-weight: bold\">+</span> rxplaceholder_3[ax0, ax1]\n",
       "    \n",
       "    <span style=\"color: #AA22FF\">@R</span><span style=\"color: #AA22FF; font-weight: bold\">.</span>function\n",
       "    <span style=\"color: #008000; font-weight: bold\">def</span> <span style=\"color: #1E90FF\">positivewiseffn</span>(x: R<span style=\"color: #AA22FF; font-weight: bold\">.</span>Tensor((<span style=\"color: #BA2121\">&quot;b&quot;</span>, <span style=\"color: #BA2121\">&quot;n&quot;</span>), dtype<span style=\"color: #AA22FF; font-weight: bold\">=</span><span style=\"color: #BA2121\">&quot;float32&quot;</span>), w0: R<span style=\"color: #AA22FF; font-weight: bold\">.</span>Tensor((<span style=\"color: #BA2121\">&quot;m&quot;</span>, <span style=\"color: #BA2121\">&quot;n&quot;</span>), dtype<span style=\"color: #AA22FF; font-weight: bold\">=</span><span style=\"color: #BA2121\">&quot;float32&quot;</span>), b0: R<span style=\"color: #AA22FF; font-weight: bold\">.</span>Tensor((<span style=\"color: #BA2121\">&quot;m&quot;</span>,), dtype<span style=\"color: #AA22FF; font-weight: bold\">=</span><span style=\"color: #BA2121\">&quot;float32&quot;</span>), z0: R<span style=\"color: #AA22FF; font-weight: bold\">.</span>Tensor((<span style=\"color: #BA2121\">&quot;b&quot;</span>, <span style=\"color: #BA2121\">&quot;m&quot;</span>), dtype<span style=\"color: #AA22FF; font-weight: bold\">=</span><span style=\"color: #BA2121\">&quot;float32&quot;</span>), w1: R<span style=\"color: #AA22FF; font-weight: bold\">.</span>Tensor((<span style=\"color: #BA2121\">&quot;d&quot;</span>, <span style=\"color: #BA2121\">&quot;m&quot;</span>), dtype<span style=\"color: #AA22FF; font-weight: bold\">=</span><span style=\"color: #BA2121\">&quot;float32&quot;</span>), b1: R<span style=\"color: #AA22FF; font-weight: bold\">.</span>Tensor((<span style=\"color: #BA2121\">&quot;d&quot;</span>,), dtype<span style=\"color: #AA22FF; font-weight: bold\">=</span><span style=\"color: #BA2121\">&quot;float32&quot;</span>), z1: R<span style=\"color: #AA22FF; font-weight: bold\">.</span>Tensor((<span style=\"color: #BA2121\">&quot;b&quot;</span>, <span style=\"color: #BA2121\">&quot;d&quot;</span>), dtype<span style=\"color: #AA22FF; font-weight: bold\">=</span><span style=\"color: #BA2121\">&quot;float32&quot;</span>)) <span style=\"color: #AA22FF; font-weight: bold\">-&gt;</span> R<span style=\"color: #AA22FF; font-weight: bold\">.</span>Tensor(<span style=\"color: #008000; font-weight: bold\">None</span>, dtype<span style=\"color: #AA22FF; font-weight: bold\">=</span><span style=\"color: #BA2121\">&quot;float32&quot;</span>, ndim<span style=\"color: #AA22FF; font-weight: bold\">=</span><span style=\"color: #008000\">2</span>):\n",
       "        b <span style=\"color: #AA22FF; font-weight: bold\">=</span> T<span style=\"color: #AA22FF; font-weight: bold\">.</span>var(<span style=\"color: #BA2121\">&quot;int64&quot;</span>)\n",
       "        n <span style=\"color: #AA22FF; font-weight: bold\">=</span> T<span style=\"color: #AA22FF; font-weight: bold\">.</span>var(<span style=\"color: #BA2121\">&quot;int64&quot;</span>)\n",
       "        m <span style=\"color: #AA22FF; font-weight: bold\">=</span> T<span style=\"color: #AA22FF; font-weight: bold\">.</span>var(<span style=\"color: #BA2121\">&quot;int64&quot;</span>)\n",
       "        d <span style=\"color: #AA22FF; font-weight: bold\">=</span> T<span style=\"color: #AA22FF; font-weight: bold\">.</span>var(<span style=\"color: #BA2121\">&quot;int64&quot;</span>)\n",
       "        <span style=\"color: #007979; font-style: italic\"># block 0</span>\n",
       "        <span style=\"color: #008000; font-weight: bold\">with</span> R<span style=\"color: #AA22FF; font-weight: bold\">.</span>dataflow():\n",
       "            lv <span style=\"color: #AA22FF; font-weight: bold\">=</span> R<span style=\"color: #AA22FF; font-weight: bold\">.</span>call_tir(te_linear, (x, w0, b0, z0), (b, T<span style=\"color: #AA22FF; font-weight: bold\">.</span>max(n, m)), dtype<span style=\"color: #AA22FF; font-weight: bold\">=</span><span style=\"color: #BA2121\">&quot;float32&quot;</span>)\n",
       "            lv1 <span style=\"color: #AA22FF; font-weight: bold\">=</span> R<span style=\"color: #AA22FF; font-weight: bold\">.</span>call_tir(relu, (lv,), (b, T<span style=\"color: #AA22FF; font-weight: bold\">.</span>max(n, m)), (m, n), dtype<span style=\"color: #AA22FF; font-weight: bold\">=</span><span style=\"color: #BA2121\">&quot;float32&quot;</span>)\n",
       "            lv2 <span style=\"color: #AA22FF; font-weight: bold\">=</span> R<span style=\"color: #AA22FF; font-weight: bold\">.</span>call_tir(te_linear1, (lv1, w1, b1, z1), (b, T<span style=\"color: #AA22FF; font-weight: bold\">.</span>max(m, d)), (n,), dtype<span style=\"color: #AA22FF; font-weight: bold\">=</span><span style=\"color: #BA2121\">&quot;float32&quot;</span>)\n",
       "            gv: R<span style=\"color: #AA22FF; font-weight: bold\">.</span>Tensor((b, T<span style=\"color: #AA22FF; font-weight: bold\">.</span>max(m, d)), dtype<span style=\"color: #AA22FF; font-weight: bold\">=</span><span style=\"color: #BA2121\">&quot;float32&quot;</span>) <span style=\"color: #AA22FF; font-weight: bold\">=</span> lv2\n",
       "            R<span style=\"color: #AA22FF; font-weight: bold\">.</span>output(gv)\n",
       "        <span style=\"color: #008000; font-weight: bold\">return</span> gv\n",
       "        \n",
       "</pre></div>\n"
      ],
      "text/plain": [
       "<IPython.core.display.HTML object>"
      ]
     },
     "metadata": {},
     "output_type": "display_data"
    }
   ],
   "source": [
    "PositiveWiseFFN().show()"
   ]
  },
  {
   "cell_type": "markdown",
   "metadata": {},
   "source": [
    "残差连接和层规范化"
   ]
  },
  {
   "cell_type": "code",
   "execution_count": 86,
   "metadata": {},
   "outputs": [],
   "source": [
    "def te_layernorm(X: te.Tensor, gamma: te.Tensor, beta: te.Tensor):\n",
    "    out = topi.nn.layer_norm(X, gamma, beta, axis=[-1])\n",
    "    return out"
   ]
  },
  {
   "cell_type": "code",
   "execution_count": 90,
   "metadata": {},
   "outputs": [],
   "source": [
    "A = te.placeholder(shape=(128, 128), name=\"A\", dtype=\"float32\")\n",
    "gamma = te.placeholder(shape=(128, ), name=\"Gamma\", dtype=\"float32\")\n",
    "beta = te.placeholder(shape=(128, ), name=\"Beta\", dtype=\"float32\")"
   ]
  },
  {
   "cell_type": "code",
   "execution_count": null,
   "metadata": {},
   "outputs": [],
   "source": [
    "def AddNorm():\n",
    "    bb = relax.BlockBuilder()\n",
    "    m, n, k = tir.Var(\"n\", \"int64\"), tir.Var(\"m\", \"int64\"), tir.Var(\"k\", \"int64\")\n",
    "    type_anno = rx.DynTensorType(3, \"float32\")\n",
    "    \n",
    "    fn_inputs = []\n",
    "    fn_output = None\n",
    "    with bb.function(\"AddNorm\"):\n",
    "        with bb.dataflow():\n",
    "            lv0 = bb.emit(relax.nn.dropout(X))\n",
    "            lv1 = bb.emit_te(topi.add, lv0, X)\n",
    "            output = bb.emit_te(te_layernorm, lv1, gamma, beta)\n",
    "            fn_output = bb.emit_output(output)\n",
    "        bb.emit_func_output(fn_output, fn_inputs)\n",
    "    return bb.get()"
   ]
  },
  {
   "cell_type": "code",
   "execution_count": 91,
   "metadata": {},
   "outputs": [
    {
     "name": "stdout",
     "output_type": "stream",
     "text": [
      "torch.Size([10]) torch.Size([10])\n",
      "torch.Size([20, 5, 10])\n"
     ]
    }
   ],
   "source": [
    "# pytorch的layernorm调用示例\n",
    "batch, sentence_length, embedding_dim = 20, 5, 10\n",
    "embedding = torch.randn(batch, sentence_length, embedding_dim)\n",
    "layer_norm = nn.LayerNorm(embedding_dim)\n",
    "print(layer_norm.weight.shape, layer_norm.bias.shape)\n",
    "print(layer_norm(embedding).shape)"
   ]
  },
  {
   "cell_type": "markdown",
   "metadata": {},
   "source": []
  },
  {
   "cell_type": "code",
   "execution_count": null,
   "metadata": {},
   "outputs": [],
   "source": []
  },
  {
   "cell_type": "markdown",
   "metadata": {},
   "source": [
    "`bb.call_te`：根据te函数生成一个调用节点\n",
    "- 该函数将来自relax表达式的参数转换为tensor\n",
    "- 回调函数应该返回一个te tensor或者te tensor的列表, 参考emit_te的例子\n",
    "\n",
    "返回：\n",
    "- ret: tvm.relax.Call, 返回新创建的Call node节点"
   ]
  },
  {
   "cell_type": "markdown",
   "metadata": {},
   "source": [
    "`bb.emit_te`"
   ]
  },
  {
   "cell_type": "code",
   "execution_count": null,
   "metadata": {},
   "outputs": [],
   "source": [
    "bb = rx.BlockBuilder()\n",
    "n, m = tir.Var(\"n\", \"int64\"), tir.Var(\"m\", \"int64\")\n",
    "type_anno = rx.DynTensorType(2, \"float32\")\n",
    "x = rx.Var(\"x\", [n, m], type_anno)\n",
    "y = rx.Var(\"y\", [n, m], type_anno)\n",
    "\n",
    "def te_func(args, args_dict, msg):\n",
    "    A = args[0]\n",
    "    B = args_dict[\"B\"]\n",
    "    return te.compute((128, 128), lambda i, j: A[i, j] + B[i, j])\n",
    "\n",
    "with bb.function([x, y], \"rx_func\"):\n",
    "    out = bb.emit_te(te_func, [x], {\"B\": y}, msg=\"hello\")\n",
    "    bb.emit_func_output(out)"
   ]
  },
  {
   "cell_type": "code",
   "execution_count": null,
   "metadata": {},
   "outputs": [],
   "source": []
  },
  {
   "cell_type": "code",
   "execution_count": null,
   "metadata": {},
   "outputs": [],
   "source": []
  }
 ],
 "metadata": {
  "kernelspec": {
   "display_name": "Python 3.8.15 ('pytorch')",
   "language": "python",
   "name": "python3"
  },
  "language_info": {
   "codemirror_mode": {
    "name": "ipython",
    "version": 3
   },
   "file_extension": ".py",
   "mimetype": "text/x-python",
   "name": "python",
   "nbconvert_exporter": "python",
   "pygments_lexer": "ipython3",
   "version": "3.8.15"
  },
  "orig_nbformat": 4,
  "vscode": {
   "interpreter": {
    "hash": "047bc0e0a0db8ffc412b6c90af731a29e4cde2c7e9fec4cd0e85726cd15c0726"
   }
  }
 },
 "nbformat": 4,
 "nbformat_minor": 2
}
